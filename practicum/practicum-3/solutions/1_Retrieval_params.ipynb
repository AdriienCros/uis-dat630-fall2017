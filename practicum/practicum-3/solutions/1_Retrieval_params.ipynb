{
 "cells": [
  {
   "cell_type": "markdown",
   "metadata": {},
   "source": [
    "# Changing retrieval model parameters in Elasticsearch\n",
    "\n",
    "This assignment uses the `aquaint` index (assuming you've already created that for Assignment 1). Alternatively, any other Elasticsearch index may be used."
   ]
  },
  {
   "cell_type": "code",
   "execution_count": 1,
   "metadata": {
    "collapsed": true
   },
   "outputs": [],
   "source": [
    "from elasticsearch import Elasticsearch"
   ]
  },
  {
   "cell_type": "code",
   "execution_count": 2,
   "metadata": {
    "collapsed": true
   },
   "outputs": [],
   "source": [
    "INDEX_NAME = \"aquaint\"\n",
    "DOC_TYPE = \"doc\"\n",
    "FIELD = \"content\""
   ]
  },
  {
   "cell_type": "code",
   "execution_count": 3,
   "metadata": {
    "collapsed": true
   },
   "outputs": [],
   "source": [
    "es = Elasticsearch()"
   ]
  },
  {
   "cell_type": "code",
   "execution_count": 4,
   "metadata": {
    "collapsed": true
   },
   "outputs": [],
   "source": [
    "query = \"tropical storms\""
   ]
  },
  {
   "cell_type": "markdown",
   "metadata": {},
   "source": [
    "### Small utility function for printing document rankings formatted"
   ]
  },
  {
   "cell_type": "code",
   "execution_count": 5,
   "metadata": {
    "collapsed": false
   },
   "outputs": [],
   "source": [
    "def printres(res):\n",
    "    for r in res:\n",
    "        print(\"%s %6.2f\" % (r[\"_id\"], r[\"_score\"]))"
   ]
  },
  {
   "cell_type": "markdown",
   "metadata": {},
   "source": [
    "### Run query with default parameters"
   ]
  },
  {
   "cell_type": "code",
   "execution_count": 6,
   "metadata": {
    "collapsed": true
   },
   "outputs": [],
   "source": [
    "res = es.search(index=INDEX_NAME, q=query, df=FIELD, _source=False, size=10).get(\"hits\", {}).get(\"hits\", {})"
   ]
  },
  {
   "cell_type": "code",
   "execution_count": 7,
   "metadata": {
    "collapsed": false
   },
   "outputs": [
    {
     "name": "stdout",
     "output_type": "stream",
     "text": [
      "APW19990810.0014  17.56\n",
      "APW19990810.0132  17.56\n",
      "XIE19960926.0183  17.34\n",
      "APW19990617.0225  16.94\n",
      "NYT20000415.0089  16.82\n",
      "APW20000522.0084  16.82\n",
      "NYT19990802.0233  16.64\n",
      "XIE19990826.0376  16.62\n",
      "APW19990402.0247  16.58\n",
      "NYT19980601.0290  16.41\n"
     ]
    }
   ],
   "source": [
    "printres(res)"
   ]
  },
  {
   "cell_type": "markdown",
   "metadata": {},
   "source": [
    "### Changing BM25 parameters"
   ]
  },
  {
   "cell_type": "markdown",
   "metadata": {},
   "source": [
    "Change the default similarity function"
   ]
  },
  {
   "cell_type": "code",
   "execution_count": 8,
   "metadata": {
    "collapsed": true
   },
   "outputs": [],
   "source": [
    "SIM = {\n",
    "    \"similarity\": {\n",
    "        \"default\": { \n",
    "            \"type\": \"BM25\",\n",
    "            \"b\": 0,\n",
    "            \"k1\": 2\n",
    "        }\n",
    "    }\n",
    "}"
   ]
  },
  {
   "cell_type": "markdown",
   "metadata": {},
   "source": [
    "A custom similarity can be updated by closing the index, updating the index settings, and reopening the index."
   ]
  },
  {
   "cell_type": "code",
   "execution_count": 9,
   "metadata": {
    "collapsed": false
   },
   "outputs": [
    {
     "data": {
      "text/plain": [
       "{'acknowledged': True}"
      ]
     },
     "execution_count": 9,
     "metadata": {},
     "output_type": "execute_result"
    }
   ],
   "source": [
    "es.indices.close(index=INDEX_NAME)\n",
    "es.indices.put_settings(index=INDEX_NAME, body=SIM)\n",
    "es.indices.open(index=INDEX_NAME)"
   ]
  },
  {
   "cell_type": "markdown",
   "metadata": {},
   "source": [
    "You might need to wait a little bit before firing the first query. If you're getting errors from Elasticsearch, you can use the code below to wait 100ms."
   ]
  },
  {
   "cell_type": "code",
   "execution_count": 10,
   "metadata": {
    "collapsed": true
   },
   "outputs": [],
   "source": [
    "from time import sleep\n",
    "sleep(0.1)"
   ]
  },
  {
   "cell_type": "markdown",
   "metadata": {},
   "source": [
    "Then run the query the same way as before"
   ]
  },
  {
   "cell_type": "code",
   "execution_count": 11,
   "metadata": {
    "collapsed": false
   },
   "outputs": [],
   "source": [
    "res = es.search(index=INDEX_NAME, q=query, df=FIELD, _source=False, size=10).get(\"hits\", {}).get(\"hits\", {})"
   ]
  },
  {
   "cell_type": "code",
   "execution_count": 12,
   "metadata": {
    "collapsed": false
   },
   "outputs": [
    {
     "name": "stdout",
     "output_type": "stream",
     "text": [
      "NYT19990802.0233  27.01\n",
      "APW20000510.0148  26.71\n",
      "APW20000510.0252  26.71\n",
      "NYT19980601.0290  26.34\n",
      "NYT19980601.0292  26.34\n",
      "NYT19990929.0517  26.19\n",
      "APW19990810.0014  26.11\n",
      "APW19990810.0132  26.11\n",
      "NYT19980917.0428  24.48\n",
      "NYT19981231.0071  23.23\n"
     ]
    }
   ],
   "source": [
    "printres(res)"
   ]
  },
  {
   "cell_type": "markdown",
   "metadata": {},
   "source": [
    "You can also retrieve the current similarity settings."
   ]
  },
  {
   "cell_type": "code",
   "execution_count": 13,
   "metadata": {
    "collapsed": false
   },
   "outputs": [
    {
     "data": {
      "text/plain": [
       "{'aquaint': {'settings': {'index': {'creation_date': '1504451814186',\n",
       "    'number_of_replicas': '1',\n",
       "    'number_of_shards': '1',\n",
       "    'provided_name': 'aquaint',\n",
       "    'similarity': {'custom_bm25': {'b': '1', 'k1': '2', 'type': 'BM25'},\n",
       "     'default': {'b': '0', 'k1': '2', 'lambda': '0.2', 'type': 'BM25'},\n",
       "     'lm': {'lambda': '0.2', 'type': 'LMJelinekMercer'}},\n",
       "    'uuid': '_HsQL_W8QrqrIoSXJKrn5w',\n",
       "    'version': {'created': '5040299'}}}}}"
      ]
     },
     "execution_count": 13,
     "metadata": {},
     "output_type": "execute_result"
    }
   ],
   "source": [
    "es.indices.get_settings(index=INDEX_NAME)"
   ]
  },
  {
   "cell_type": "markdown",
   "metadata": {},
   "source": [
    "### Using a different retrieval model"
   ]
  },
  {
   "cell_type": "markdown",
   "metadata": {},
   "source": [
    "Similarly to above, you may also change the retrieval model that is used. Elasticsearch implements, among others, language modeling (LM) and divergence from randomness (DFR).\n",
    "\n",
    "See: https://www.elastic.co/guide/en/elasticsearch/reference/current/index-modules-similarity.html"
   ]
  },
  {
   "cell_type": "markdown",
   "metadata": {},
   "source": [
    "Use Language Modeling with Jelinek-Mercer smoothing and with lambda=0.2. Check the retrieval scores change for the top-10 documents."
   ]
  },
  {
   "cell_type": "code",
   "execution_count": 14,
   "metadata": {
    "collapsed": true
   },
   "outputs": [],
   "source": [
    "SIM = {\n",
    "    \"similarity\": {\n",
    "        \"default\": {\n",
    "            \"type\": \"LMJelinekMercer\",\n",
    "            \"lambda\": 0.2\n",
    "        }\n",
    "    }\n",
    "}"
   ]
  },
  {
   "cell_type": "code",
   "execution_count": 15,
   "metadata": {
    "collapsed": false
   },
   "outputs": [
    {
     "data": {
      "text/plain": [
       "{'acknowledged': True}"
      ]
     },
     "execution_count": 15,
     "metadata": {},
     "output_type": "execute_result"
    }
   ],
   "source": [
    "es.indices.close(index=INDEX_NAME)\n",
    "es.indices.put_settings(index=INDEX_NAME, body=SIM)\n",
    "es.indices.open(index=INDEX_NAME)"
   ]
  },
  {
   "cell_type": "code",
   "execution_count": 16,
   "metadata": {
    "collapsed": true
   },
   "outputs": [],
   "source": [
    "sleep(0.1)"
   ]
  },
  {
   "cell_type": "code",
   "execution_count": 17,
   "metadata": {
    "collapsed": false
   },
   "outputs": [],
   "source": [
    "res = es.search(index=INDEX_NAME, q=query, df=FIELD, _source=False, size=10).get(\"hits\", {}).get(\"hits\", {})"
   ]
  },
  {
   "cell_type": "code",
   "execution_count": 18,
   "metadata": {
    "collapsed": false
   },
   "outputs": [
    {
     "name": "stdout",
     "output_type": "stream",
     "text": [
      "APW19990810.0014  17.56\n",
      "APW19990810.0132  17.56\n",
      "XIE19960926.0183  17.34\n",
      "APW19990617.0225  16.94\n",
      "NYT20000415.0089  16.82\n",
      "APW20000522.0084  16.82\n",
      "NYT19990802.0233  16.64\n",
      "XIE19990826.0376  16.62\n",
      "APW19990402.0247  16.58\n",
      "NYT19980601.0290  16.41\n"
     ]
    }
   ],
   "source": [
    "printres(res)"
   ]
  },
  {
   "cell_type": "markdown",
   "metadata": {},
   "source": [
    "### Changing back to default similarity\n",
    "\n",
    "**Important** you need to change back to the default similarity manually."
   ]
  },
  {
   "cell_type": "code",
   "execution_count": 19,
   "metadata": {
    "collapsed": true
   },
   "outputs": [],
   "source": [
    "SIM = {\n",
    "    \"similarity\": {\n",
    "        \"default\": {\n",
    "            \"type\": \"BM25\",\n",
    "            \"b\": 0.75,\n",
    "            \"k1\": 1.2\n",
    "        }\n",
    "    }\n",
    "}"
   ]
  },
  {
   "cell_type": "code",
   "execution_count": 20,
   "metadata": {
    "collapsed": false
   },
   "outputs": [
    {
     "data": {
      "text/plain": [
       "{'acknowledged': True}"
      ]
     },
     "execution_count": 20,
     "metadata": {},
     "output_type": "execute_result"
    }
   ],
   "source": [
    "es.indices.close(index=INDEX_NAME)\n",
    "es.indices.put_settings(index=INDEX_NAME, body=SIM)\n",
    "es.indices.open(index=INDEX_NAME)"
   ]
  }
 ],
 "metadata": {
  "kernelspec": {
   "display_name": "Python 3",
   "language": "python",
   "name": "python3"
  },
  "language_info": {
   "codemirror_mode": {
    "name": "ipython",
    "version": 3
   },
   "file_extension": ".py",
   "mimetype": "text/x-python",
   "name": "python",
   "nbconvert_exporter": "python",
   "pygments_lexer": "ipython3",
   "version": "3.6.0"
  }
 },
 "nbformat": 4,
 "nbformat_minor": 2
}
