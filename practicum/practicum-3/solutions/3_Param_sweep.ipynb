{
 "cells": [
  {
   "cell_type": "markdown",
   "metadata": {},
   "source": [
    "# Performing a parameter sweep\n",
    "\n",
    "The objective of this task is to optimize the parameters of the BM25 retrieval model (b and k1) in a systematic way. \n",
    "\n",
    "The proper solution would be to do an extensive grid search, as b and k1 are not independent of each other. The pseudo code for that would look something like:\n",
    "\n",
    "```\n",
    "for b between 0 and 1 in 0.1 steps\n",
    "    for k between 1 and 2 in 0.1 steps\n",
    "        perform retrieval using b and k\n",
    "        evaluate\n",
    "pick b and k with highest overall performance (MAP score)\n",
    "```\n",
    "\n",
    "As this would take a lot of time, what we do instead in this exercise is the following:\n",
    "  - keep the default k1 value (1.2) and perform a sweep on b\n",
    "  - use the best performing b value and perform a sweep on k1\n",
    "  \n",
    "This may not be a global optimum, but should give better results than the default setting.\n",
    "\n",
    "**NOTE** The solution is incomplete; those parts of the code that should be developed as part of Assignment 1 are removed."
   ]
  },
  {
   "cell_type": "code",
   "execution_count": 19,
   "metadata": {
    "collapsed": true
   },
   "outputs": [],
   "source": [
    "from elasticsearch import Elasticsearch\n",
    "import time"
   ]
  },
  {
   "cell_type": "code",
   "execution_count": 14,
   "metadata": {
    "collapsed": true
   },
   "outputs": [],
   "source": [
    "INDEX_NAME = \"aquaint\"\n",
    "DOC_TYPE = \"doc\"\n",
    "FIELD = \"content\""
   ]
  },
  {
   "cell_type": "code",
   "execution_count": 3,
   "metadata": {
    "collapsed": true
   },
   "outputs": [],
   "source": [
    "QUERY_FILE = \"data/queries.txt\"\n",
    "OUTPUT_FILE = \"data/baseline.txt\"\n",
    "QRELS_FILE = \"data/qrels2.csv\""
   ]
  },
  {
   "cell_type": "code",
   "execution_count": 6,
   "metadata": {
    "collapsed": true
   },
   "outputs": [],
   "source": [
    "def load_queries(query_file):\n",
    "    queries = {}\n",
    "    with open(query_file, \"r\") as fin:\n",
    "        for line in fin.readlines():\n",
    "            qid, query = line.strip().split(\" \", 1)\n",
    "            queries[qid] = query\n",
    "    return queries"
   ]
  },
  {
   "cell_type": "code",
   "execution_count": 7,
   "metadata": {
    "collapsed": true
   },
   "outputs": [],
   "source": [
    "def eval_query(ranking, gt):\n",
    "    # See Assignment 1\n",
    "    pass"
   ]
  },
  {
   "cell_type": "code",
   "execution_count": 8,
   "metadata": {
    "collapsed": true
   },
   "outputs": [],
   "source": [
    "def eval(gt_file, output_file):\n",
    "    \n",
    "    # See Assignment 1\n",
    "    # This function is modified such that it only returns the MAP score\n",
    "    pass"
   ]
  },
  {
   "cell_type": "code",
   "execution_count": 9,
   "metadata": {
    "collapsed": false
   },
   "outputs": [],
   "source": [
    "queries = load_queries(QUERY_FILE)"
   ]
  },
  {
   "cell_type": "code",
   "execution_count": 10,
   "metadata": {
    "collapsed": true
   },
   "outputs": [],
   "source": [
    "es = Elasticsearch()"
   ]
  },
  {
   "cell_type": "markdown",
   "metadata": {},
   "source": [
    "### Perform a sweep on b"
   ]
  },
  {
   "cell_type": "code",
   "execution_count": 2,
   "metadata": {
    "collapsed": false
   },
   "outputs": [
    {
     "name": "stdout",
     "output_type": "stream",
     "text": [
      "Running queries for b=0.000000\n",
      "Running queries for b=0.100000\n",
      "Running queries for b=0.200000\n",
      "Running queries for b=0.300000\n",
      "Running queries for b=0.400000\n",
      "Running queries for b=0.500000\n",
      "Running queries for b=0.600000\n",
      "Running queries for b=0.700000\n",
      "Running queries for b=0.800000\n",
      "Running queries for b=0.900000\n",
      "Running queries for b=1.000000\n"
     ]
    }
   ],
   "source": [
    "map_scores = []\n",
    "x = []\n",
    "for i in range(11):\n",
    "    b = round(i / 10, 2) \n",
    "    x.append(b)\n",
    "    print(\"Running queries for b=%f\" % b)\n",
    "    SIM = {\n",
    "        \"similarity\": {\n",
    "            \"default\": { \n",
    "                \"type\": \"BM25\",\n",
    "                \"b\": b,\n",
    "                \"k1\": 1.2\n",
    "            }\n",
    "        }\n",
    "    }\n",
    "\n",
    "    # change params\n",
    "    es.indices.close(index=INDEX_NAME)\n",
    "    es.indices.put_settings(index=INDEX_NAME, body=SIM)\n",
    "    es.indices.open(index=INDEX_NAME)\n",
    "    # need to wait a bit before firing queries\n",
    "    time.sleep(1)\n",
    "\n",
    "    # run retrieval and write it to a file (so that we can easily reuse previous code)\n",
    "    with open(OUTPUT_FILE, \"w\") as fout:\n",
    "        # write header\n",
    "        fout.write(\"QueryId,DocumentId\\n\")\n",
    "        for qid, query in queries.items():\n",
    "            res = es.search(index=INDEX_NAME, q=query, df=FIELD, _source=False, size=100).get(\"hits\", {})\n",
    "            for doc in res.get(\"hits\", {}):\n",
    "                fout.write(qid + \",\" + doc.get(\"_id\") + \"\\n\")    \n",
    "    \n",
    "    # evaluate\n",
    "    map_score = eval(QRELS_FILE, OUTPUT_FILE)\n",
    "    map_scores.append(map_score)"
   ]
  },
  {
   "cell_type": "code",
   "execution_count": 50,
   "metadata": {
    "collapsed": false
   },
   "outputs": [
    {
     "data": {
      "image/png": "[encoded data removed]",
      "text/plain": [
       "<matplotlib.figure.Figure at 0x10e146a20>"
      ]
     },
     "metadata": {},
     "output_type": "display_data"
    }
   ],
   "source": [
    "import matplotlib.pyplot as plt\n",
    "\n",
    "plt.plot(x, map_scores)\n",
    "plt.title(\"BM25 performance (k1=1.2, varying b)\")\n",
    "plt.xlabel(\"b\")\n",
    "plt.ylabel(\"MAP\")\n",
    "plt.savefig(\"bm25_b_sweep.png\")\n",
    "plt.show()"
   ]
  },
  {
   "cell_type": "markdown",
   "metadata": {},
   "source": [
    "### Perform a sweep on k1\n",
    "\n",
    "We use the best performing b value from above (0.1) and optimize k1"
   ]
  },
  {
   "cell_type": "code",
   "execution_count": 4,
   "metadata": {
    "collapsed": false
   },
   "outputs": [
    {
     "name": "stdout",
     "output_type": "stream",
     "text": [
      "Running queries for k1=1.000000\n",
      "Running queries for k1=1.100000\n",
      "Running queries for k1=1.200000\n",
      "Running queries for k1=1.300000\n",
      "Running queries for k1=1.400000\n",
      "Running queries for k1=1.500000\n",
      "Running queries for k1=1.600000\n",
      "Running queries for k1=1.700000\n",
      "Running queries for k1=1.800000\n",
      "Running queries for k1=1.900000\n",
      "Running queries for k1=2.000000\n"
     ]
    }
   ],
   "source": [
    "map_scores = []\n",
    "x = []\n",
    "for i in range(11):\n",
    "    k1 = 1 + round(i / 10, 2) \n",
    "    x.append(k1)\n",
    "    print(\"Running queries for k1=%f\" % k1)\n",
    "    SIM = {\n",
    "        \"similarity\": {\n",
    "            \"default\": { \n",
    "                \"type\": \"BM25\",\n",
    "                \"b\": 0.1,\n",
    "                \"k1\": k1\n",
    "            }\n",
    "        }\n",
    "    }\n",
    "\n",
    "    # change params\n",
    "    es.indices.close(index=INDEX_NAME)\n",
    "    es.indices.put_settings(index=INDEX_NAME, body=SIM)\n",
    "    es.indices.open(index=INDEX_NAME)\n",
    "    # need to wait a bit before firing queries\n",
    "    time.sleep(1)\n",
    "\n",
    "    # run retrieval and write it to a file (so that we can easily reuse previous code)\n",
    "    with open(OUTPUT_FILE, \"w\") as fout:\n",
    "        # write header\n",
    "        fout.write(\"QueryId,DocumentId\\n\")\n",
    "        for qid, query in queries.items():\n",
    "            #print(\"Ranking documents for [%s] '%s'\" % (qid, query))\n",
    "            res = es.search(index=INDEX_NAME, q=query, df=FIELD, _source=False, size=100).get(\"hits\", {})\n",
    "            for doc in res.get(\"hits\", {}):\n",
    "                fout.write(qid + \",\" + doc.get(\"_id\") + \"\\n\")    \n",
    "\n",
    "    # evaluate\n",
    "    map_score = eval(QRELS_FILE, OUTPUT_FILE)    \n",
    "    map_scores.append(map_score)"
   ]
  },
  {
   "cell_type": "code",
   "execution_count": 48,
   "metadata": {
    "collapsed": false
   },
   "outputs": [
    {
     "data": {
      "image/png": "[encoded data removed]",
      "text/plain": [
       "<matplotlib.figure.Figure at 0x10e7e0a20>"
      ]
     },
     "metadata": {},
     "output_type": "display_data"
    }
   ],
   "source": [
    "plt.plot(x, map_scores)\n",
    "plt.title(\"BM25 performance (b=0.1, varying k1)\")\n",
    "plt.xlabel(\"k1\")\n",
    "plt.ylabel(\"MAP\")\n",
    "plt.savefig(\"bm25_k1_sweep.png\")\n",
    "plt.show()"
   ]
  }
 ],
 "metadata": {
  "kernelspec": {
   "display_name": "Python 3",
   "language": "python",
   "name": "python3"
  },
  "language_info": {
   "codemirror_mode": {
    "name": "ipython",
    "version": 3
   },
   "file_extension": ".py",
   "mimetype": "text/x-python",
   "name": "python",
   "nbconvert_exporter": "python",
   "pygments_lexer": "ipython3",
   "version": "3.6.0"
  }
 },
 "nbformat": 4,
 "nbformat_minor": 2
}
