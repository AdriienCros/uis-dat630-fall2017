{
 "cells": [
  {
   "cell_type": "markdown",
   "metadata": {},
   "source": [
    "# Simple plotting with matplotlib\n",
    "\n",
    "Make a histrogram from the provided values.\n",
    "\n",
    "- Set the color of the bars\n",
    "- Add a title to the plot\n",
    "- Set the value labels\n",
    "\n",
    "See the [official matplotlib documentation](https://matplotlib.org/devdocs/api/_as_gen/matplotlib.pyplot.hist.html) for making a histogram."
   ]
  },
  {
   "cell_type": "code",
   "execution_count": 1,
   "metadata": {
    "collapsed": true
   },
   "outputs": [],
   "source": [
    "import matplotlib.pyplot as plt"
   ]
  },
  {
   "cell_type": "markdown",
   "metadata": {},
   "source": [
    "This is the data we want to visualize using a histrogram. These values could, for example, be performance differences between two retrieval systems (i.e., delta AP between an improved and a baseline system)."
   ]
  },
  {
   "cell_type": "code",
   "execution_count": 2,
   "metadata": {
    "collapsed": true
   },
   "outputs": [],
   "source": [
    "values = [0.1, 0.75, 0.05, -0.1, -0.17, 0.2, -0.3, 0.03, -0.02, 0.4, 0.35, -0.005, -0.01, 0.3]"
   ]
  },
  {
   "cell_type": "markdown",
   "metadata": {},
   "source": [
    "We ask for bin edges at specific locations."
   ]
  },
  {
   "cell_type": "code",
   "execution_count": 3,
   "metadata": {
    "collapsed": true
   },
   "outputs": [],
   "source": [
    "my_bins = [-1, -0.5, -0.1, 0.1, 0.5, 1]"
   ]
  },
  {
   "cell_type": "code",
   "execution_count": 4,
   "metadata": {
    "collapsed": false
   },
   "outputs": [
    {
     "data": {
      "image/png": "[encoded data removed]",
      "text/plain": [
       "<matplotlib.figure.Figure at 0x10d2cf4a8>"
      ]
     },
     "metadata": {},
     "output_type": "display_data"
    }
   ],
   "source": [
    "plt.hist(values, bins=my_bins)\n",
    "plt.xlabel(\"$\\Delta$ AP\")\n",
    "plt.ylabel(\"#Queries\")\n",
    "plt.title(\"Distribution of query-level differences\")\n",
    "plt.grid(True)\n",
    "\n",
    "plt.show()"
   ]
  },
  {
   "cell_type": "markdown",
   "metadata": {},
   "source": [
    "**NOTE** This solution is not yet complete. `plt.hist()` only supports equal-sized bins. Instead, you should create the bins separately, and then just make a bar chart with matplotlib "
   ]
  }
 ],
 "metadata": {
  "kernelspec": {
   "display_name": "Python 3",
   "language": "python",
   "name": "python3"
  },
  "language_info": {
   "codemirror_mode": {
    "name": "ipython",
    "version": 3
   },
   "file_extension": ".py",
   "mimetype": "text/x-python",
   "name": "python",
   "nbconvert_exporter": "python",
   "pygments_lexer": "ipython3",
   "version": "3.6.0"
  }
 },
 "nbformat": 4,
 "nbformat_minor": 2
}
