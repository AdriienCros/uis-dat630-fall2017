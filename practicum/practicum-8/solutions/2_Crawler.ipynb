{
 "cells": [
  {
   "cell_type": "markdown",
   "metadata": {},
   "source": [
    "# Focused Web crawling and anchor text extraction\n",
    "\n",
    "The task is to build a simple focused web crawler that crawls pages from a given website (i.e., without leaving a given domain) and extracts anchor text from each of the pages discovered."
   ]
  },
  {
   "cell_type": "code",
   "execution_count": 1,
   "metadata": {
    "collapsed": true
   },
   "outputs": [],
   "source": [
    "DOMAIN = \"wikipedia.org\"  # this is the site we want to crawl; we don't follow links outside this domain\n",
    "START = \"https://en.wikipedia.org/wiki/Stavanger\"  # we start crawling from this URL"
   ]
  },
  {
   "cell_type": "markdown",
   "metadata": {},
   "source": [
    "### This utility function crawls a given URL and extracts all links from it."
   ]
  },
  {
   "cell_type": "code",
   "execution_count": 2,
   "metadata": {
    "collapsed": false
   },
   "outputs": [],
   "source": [
    "from bs4 import BeautifulSoup\n",
    "import urllib.request"
   ]
  },
  {
   "cell_type": "code",
   "execution_count": 3,
   "metadata": {
    "collapsed": false
   },
   "outputs": [],
   "source": [
    "def extract_links(url):\n",
    "    resp = urllib.request.urlopen(url)\n",
    "    soup = BeautifulSoup(resp, \"lxml\", from_encoding=resp.info().get_param('charset'))\n",
    "    links = []\n",
    "    for link in soup.find_all('a', href=True):\n",
    "        links.append((link['href'], link.text))\n",
    "        #print(link['href'], link.text)\n",
    "    return links"
   ]
  },
  {
   "cell_type": "markdown",
   "metadata": {},
   "source": [
    "## Crawler main"
   ]
  },
  {
   "cell_type": "code",
   "execution_count": 4,
   "metadata": {
    "collapsed": false
   },
   "outputs": [],
   "source": [
    "import time\n",
    "from urllib.parse import urljoin\n",
    "import pprint"
   ]
  },
  {
   "cell_type": "markdown",
   "metadata": {},
   "source": [
    "Utility function for saving anchor text"
   ]
  },
  {
   "cell_type": "code",
   "execution_count": 5,
   "metadata": {
    "collapsed": true
   },
   "outputs": [],
   "source": [
    "def save_anchor_text(link_url, link_text, atext):\n",
    "    if DOMAIN not in link_url:  # we collect anchor text only for in-domain pages\n",
    "        return\n",
    "    if link_url not in atext:\n",
    "        atext[link_url] = []\n",
    "    atext[link_url].append(link_text)    "
   ]
  },
  {
   "cell_type": "markdown",
   "metadata": {},
   "source": [
    "Utility function for adding URL to queue (if it's not there and hasn't been visited already)"
   ]
  },
  {
   "cell_type": "code",
   "execution_count": 6,
   "metadata": {
    "collapsed": true
   },
   "outputs": [],
   "source": [
    "def add_to_queue(url, visited, queue):\n",
    "    if (url not in visited) and (url not in queue):\n",
    "        queue.append(url)"
   ]
  },
  {
   "cell_type": "code",
   "execution_count": 7,
   "metadata": {
    "collapsed": true
   },
   "outputs": [],
   "source": [
    "def crawl(start_url, domain):\n",
    "    visited = set()  # set of URLs visited so far\n",
    "    atext = {}  # anchor text extracted for URLs, i.e., the key is the URL the value is a list of anchor texts\n",
    "    queue = [start_url]\n",
    "    \n",
    "    while len(queue) > 0:\n",
    "        url = queue.pop(0)\n",
    "        print(\"Crawling {} ...\".format(url))\n",
    "        links = extract_links(url)\n",
    "        visited.add(url)\n",
    "        for link_url, link_text in links:\n",
    "            if link_url.startswith(\"/\"):  # relative link\n",
    "                # resolve link\n",
    "                link_url = urljoin(url, link_url)\n",
    "                # save anchor text\n",
    "                save_anchor_text(link_url, link_text, atext)\n",
    "                # add URL to queue \n",
    "                add_to_queue(link_url, visited, queue)       \n",
    "                \n",
    "            elif link_url.startswith(\"http\"):  # absolute link\n",
    "                if DOMAIN in link_url:  # a naive way of checking if it's within domain link\n",
    "                    # save anchor text\n",
    "                    save_anchor_text(link_url, link_text, atext)\n",
    "                    # add URL to queue \n",
    "                    add_to_queue(link_url, visited, queue)       \n",
    "            else:\n",
    "                # we don't care about other types of links for now\n",
    "                pass\n",
    "        \n",
    "        # stop after 10 pages visited\n",
    "        if len(visited) > 10:\n",
    "            break\n",
    "        \n",
    "        time.sleep(1)  # wait 1 sec before moving to next page\n",
    "     \n",
    "    # uncomment this line to see the collected anchor text\n",
    "    #pprint.pprint(atext)"
   ]
  },
  {
   "cell_type": "markdown",
   "metadata": {},
   "source": [
    "### Start crawling"
   ]
  },
  {
   "cell_type": "code",
   "execution_count": 8,
   "metadata": {
    "collapsed": false
   },
   "outputs": [
    {
     "name": "stdout",
     "output_type": "stream",
     "text": [
      "Crawling https://en.wikipedia.org/wiki/Stavanger ...\n",
      "Crawling https://en.wikipedia.org/wiki/File:Stavangercollage01.jpg ...\n",
      "Crawling https://en.wikipedia.org/wiki/File:Stavanger_komm.svg ...\n",
      "Crawling https://en.wikipedia.org/wiki/File:Norway_Rogaland_location_map.svg ...\n",
      "Crawling https://en.wikipedia.org/wiki/File:Norway_location_map.svg ...\n",
      "Crawling https://tools.wmflabs.org/geohack/geohack.php?pagename=Stavanger&params=58_57_48_N_5_43_8_E_region:NO_type:city(130426) ...\n",
      "Crawling https://en.wikipedia.org/wiki/Geographic_coordinate_system ...\n",
      "Crawling https://en.wikipedia.org/wiki/Country ...\n",
      "Crawling https://en.wikipedia.org/wiki/Norway ...\n",
      "Crawling https://en.wikipedia.org/wiki/List_of_municipalities_of_Norway ...\n",
      "Crawling https://en.wikipedia.org/wiki/Counties_of_Norway ...\n"
     ]
    }
   ],
   "source": [
    "crawl(START, DOMAIN)"
   ]
  }
 ],
 "metadata": {
  "kernelspec": {
   "display_name": "Python 3",
   "language": "python",
   "name": "python3"
  },
  "language_info": {
   "codemirror_mode": {
    "name": "ipython",
    "version": 3
   },
   "file_extension": ".py",
   "mimetype": "text/x-python",
   "name": "python",
   "nbconvert_exporter": "python",
   "pygments_lexer": "ipython3",
   "version": "3.6.0"
  }
 },
 "nbformat": 4,
 "nbformat_minor": 2
}
